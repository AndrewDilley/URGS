{
 "cells": [
  {
   "cell_type": "code",
   "execution_count": 15,
   "id": "c2b6e918-e9ad-43f8-94de-0090dbb95165",
   "metadata": {},
   "outputs": [],
   "source": [
    "# import pandas as pd\n",
    "\n",
    "# # Read the CSV file\n",
    "# df_URGS = pd.read_csv(\"test.csv\")\n",
    "\n",
    "# # Option 1: Select columns by index (0-indexed: 0 for column 1, 1 for column 2, 4 for column 5)\n",
    "# selected_columns = df_URGS.iloc[:, [0, 1, 4]]\n",
    "\n",
    "# # Option 2: If your CSV file has headers like 'ID', 'Age', and 'Score', you can select by column names:\n",
    "# # selected_columns = df_URGS[['ID', 'Age', 'Score']]\n",
    "\n",
    "# # Write the selected columns to a new CSV file\n",
    "# selected_columns.to_csv(\"new_test.csv\", index=False)\n",
    "\n",
    "# print(\"New CSV file created with columns 1, 2, and 5.\")\n"
   ]
  },
  {
   "cell_type": "code",
   "execution_count": 16,
   "id": "205adcfe-3168-47c9-a519-5dcf12fd0f1e",
   "metadata": {},
   "outputs": [],
   "source": [
    "# # Read the CSV file\n",
    "# df_URGS = pd.read_csv(\"full_dataset.csv\")\n",
    "\n",
    "# # Option 1: Select columns by index (0-indexed: 0 for column 1, 1 for column 2, 4 for column 5)\n",
    "# selected_columns = df_URGS.iloc[:, [1, 4, 7, 11, 12, 13, 18]]\n",
    "\n",
    "# # Write the selected columns to a new CSV file\n",
    "# selected_columns.to_csv(\"final_dataset.csv\", index=False)\n",
    "\n",
    "# print(\"New CSV file created with columns needed for analysis.\")\n"
   ]
  },
  {
   "cell_type": "code",
   "execution_count": 103,
   "id": "92a8d6d6-d37f-4ac9-93fc-cba411047d76",
   "metadata": {},
   "outputs": [
    {
     "name": "stderr",
     "output_type": "stream",
     "text": [
      "C:\\Users\\andrew.dilley\\AppData\\Local\\Temp\\ipykernel_75428\\1959938982.py:5: UserWarning: Parsing dates in %d/%m/%Y format when dayfirst=False (the default) was specified. Pass `dayfirst=True` or specify a format to silence this warning.\n",
      "  df_URGS = pd.read_csv('final_dataset.csv', parse_dates=['Submission Date'])\n"
     ]
    },
    {
     "data": {
      "image/png": "[encoded data removed]",
      "text/plain": [
       "<Figure size 640x480 with 1 Axes>"
      ]
     },
     "metadata": {},
     "output_type": "display_data"
    }
   ],
   "source": [
    "import pandas as pd\n",
    "import matplotlib.pyplot as plt\n",
    "\n",
    "# Read the CSV file. Adjust the filename/path as needed.\n",
    "df_URGS = pd.read_csv('final_dataset.csv', parse_dates=['Submission Date'])\n",
    "\n",
    "# Alternatively, if parse_dates doesn't work properly, you can explicitly convert the column:\n",
    "# df_URGS['Submission Date'] = pd.to_datetime(df_URGS['Submission Date'], format='%m/%d/%Y') \n",
    "\n",
    "# Extract the year from the 'Submission Date' column and store it in a new column\n",
    "df_URGS['Year'] = df_URGS['Submission Date'].dt.year\n",
    "\n",
    "# Group by year and count the total rows\n",
    "year_counts = df_URGS.groupby('Year').size()\n",
    "\n",
    "# Plot the counts as a bar chart\n",
    "year_counts.plot(kind='bar')\n",
    "plt.xlabel('Year')\n",
    "plt.ylabel('Count')\n",
    "plt.title('Count of Submissions by Year')\n",
    "\n",
    "# Display the plot\n",
    "plt.show()\n",
    "\n",
    "# (Optional) Save the figure\n",
    "# plt.savefig('submission_counts_by_year.png')\n"
   ]
  },
  {
   "cell_type": "code",
   "execution_count": 104,
   "id": "8ad7339e-f48e-4a51-9e22-a614c6b4a687",
   "metadata": {},
   "outputs": [
    {
     "data": {
      "text/html": [
       "<div>\n",
       "<style scoped>\n",
       "    .dataframe tbody tr th:only-of-type {\n",
       "        vertical-align: middle;\n",
       "    }\n",
       "\n",
       "    .dataframe tbody tr th {\n",
       "        vertical-align: top;\n",
       "    }\n",
       "\n",
       "    .dataframe thead th {\n",
       "        text-align: right;\n",
       "    }\n",
       "</style>\n",
       "<table border=\"1\" class=\"dataframe\">\n",
       "  <thead>\n",
       "    <tr style=\"text-align: right;\">\n",
       "      <th></th>\n",
       "      <th>Submission Date</th>\n",
       "      <th>Total Owing</th>\n",
       "      <th>Year</th>\n",
       "    </tr>\n",
       "  </thead>\n",
       "  <tbody>\n",
       "    <tr>\n",
       "      <th>count</th>\n",
       "      <td>536</td>\n",
       "      <td>536.000000</td>\n",
       "      <td>536.000000</td>\n",
       "    </tr>\n",
       "    <tr>\n",
       "      <th>mean</th>\n",
       "      <td>2016-06-06 07:42:05.373134336</td>\n",
       "      <td>710.591194</td>\n",
       "      <td>2015.972015</td>\n",
       "    </tr>\n",
       "    <tr>\n",
       "      <th>min</th>\n",
       "      <td>2007-09-25 00:00:00</td>\n",
       "      <td>0.000000</td>\n",
       "      <td>2007.000000</td>\n",
       "    </tr>\n",
       "    <tr>\n",
       "      <th>25%</th>\n",
       "      <td>2012-08-06 00:00:00</td>\n",
       "      <td>355.582500</td>\n",
       "      <td>2012.000000</td>\n",
       "    </tr>\n",
       "    <tr>\n",
       "      <th>50%</th>\n",
       "      <td>2016-04-24 00:00:00</td>\n",
       "      <td>530.440000</td>\n",
       "      <td>2016.000000</td>\n",
       "    </tr>\n",
       "    <tr>\n",
       "      <th>75%</th>\n",
       "      <td>2020-03-14 18:00:00</td>\n",
       "      <td>834.252500</td>\n",
       "      <td>2020.000000</td>\n",
       "    </tr>\n",
       "    <tr>\n",
       "      <th>max</th>\n",
       "      <td>2023-10-27 00:00:00</td>\n",
       "      <td>6908.500000</td>\n",
       "      <td>2023.000000</td>\n",
       "    </tr>\n",
       "    <tr>\n",
       "      <th>std</th>\n",
       "      <td>NaN</td>\n",
       "      <td>649.014144</td>\n",
       "      <td>4.499342</td>\n",
       "    </tr>\n",
       "  </tbody>\n",
       "</table>\n",
       "</div>"
      ],
      "text/plain": [
       "                     Submission Date  Total Owing         Year\n",
       "count                            536   536.000000   536.000000\n",
       "mean   2016-06-06 07:42:05.373134336   710.591194  2015.972015\n",
       "min              2007-09-25 00:00:00     0.000000  2007.000000\n",
       "25%              2012-08-06 00:00:00   355.582500  2012.000000\n",
       "50%              2016-04-24 00:00:00   530.440000  2016.000000\n",
       "75%              2020-03-14 18:00:00   834.252500  2020.000000\n",
       "max              2023-10-27 00:00:00  6908.500000  2023.000000\n",
       "std                              NaN   649.014144     4.499342"
      ]
     },
     "execution_count": 104,
     "metadata": {},
     "output_type": "execute_result"
    }
   ],
   "source": [
    "df_URGS.describe()"
   ]
  },
  {
   "cell_type": "code",
   "execution_count": 105,
   "id": "8a48b1d8-d0e6-4e38-80be-0df260537e6a",
   "metadata": {},
   "outputs": [
    {
     "name": "stdout",
     "output_type": "stream",
     "text": [
      "<class 'pandas.core.frame.DataFrame'>\n",
      "RangeIndex: 536 entries, 0 to 535\n",
      "Data columns (total 8 columns):\n",
      " #   Column           Non-Null Count  Dtype         \n",
      "---  ------           --------------  -----         \n",
      " 0   Submission Date  536 non-null    datetime64[ns]\n",
      " 1   Account No       535 non-null    object        \n",
      " 2   Suburb           536 non-null    object        \n",
      " 3   Status           536 non-null    object        \n",
      " 4   Submitted        536 non-null    object        \n",
      " 5   Received         536 non-null    object        \n",
      " 6   Total Owing      536 non-null    float64       \n",
      " 7   Year             536 non-null    int32         \n",
      "dtypes: datetime64[ns](1), float64(1), int32(1), object(5)\n",
      "memory usage: 31.5+ KB\n"
     ]
    }
   ],
   "source": [
    "df_URGS.info()"
   ]
  },
  {
   "cell_type": "code",
   "execution_count": 106,
   "id": "4dc4cc71-b2b2-4de2-a7ef-547cf25eedbf",
   "metadata": {},
   "outputs": [],
   "source": [
    "df_URGS['Account No'] = df_URGS['Account No'].astype('string')\n"
   ]
  },
  {
   "cell_type": "code",
   "execution_count": 107,
   "id": "e7cf060b-2762-4eb0-b82a-0007328baab8",
   "metadata": {},
   "outputs": [],
   "source": [
    "df_URGS['Account No'] = df_URGS['Account No'].astype(str).str.strip()"
   ]
  },
  {
   "cell_type": "code",
   "execution_count": 108,
   "id": "536423b2-85fb-474b-85a5-4b847a5afd29",
   "metadata": {},
   "outputs": [],
   "source": [
    "df_URGS['Account No'] = df_URGS['Account No'].apply(lambda x: x + '01' if len(x) == 10 else x)\n"
   ]
  },
  {
   "cell_type": "code",
   "execution_count": 109,
   "id": "15acef19-94fb-4d4c-9d70-1378b871bce0",
   "metadata": {},
   "outputs": [],
   "source": [
    "df_URGS['Account No'] = df_URGS['Account No'].apply(lambda x: \"0\" + x if len(x) == 11 else x)\n"
   ]
  },
  {
   "cell_type": "code",
   "execution_count": 110,
   "id": "b4c02779-7176-4368-8087-aaecdf403043",
   "metadata": {},
   "outputs": [],
   "source": [
    "df_URGS['Account No'] = df_URGS['Account No'].astype('string')\n"
   ]
  },
  {
   "cell_type": "code",
   "execution_count": 111,
   "id": "3d51bed6-4963-4e90-bce7-3c9110cee328",
   "metadata": {},
   "outputs": [
    {
     "name": "stdout",
     "output_type": "stream",
     "text": [
      "0    9330140850015\n",
      "1     933360205001\n",
      "2     933073575007\n",
      "3     933270260001\n",
      "4     933380010003\n",
      "Name: Account No, dtype: string\n"
     ]
    }
   ],
   "source": [
    "print(df_URGS['Account No'].head())\n"
   ]
  },
  {
   "cell_type": "code",
   "execution_count": 112,
   "id": "03205c44-ab5c-4cbc-b640-67880444a916",
   "metadata": {},
   "outputs": [
    {
     "name": "stdout",
     "output_type": "stream",
     "text": [
      "0      9330140850015\n",
      "1    93-3360-2050-01\n",
      "2    93-3073-5750-07\n",
      "3    93-3270-2600-01\n",
      "4    93-3380-0100-03\n",
      "Name: Account No, dtype: object\n"
     ]
    }
   ],
   "source": [
    "# Step 1: Ensure all values are strings and strip leading/trailing spaces\n",
    "df_URGS['Account No'] = df_URGS['Account No'].astype(str).str.strip()\n",
    "\n",
    "\n",
    "df_URGS['Account No'] = df_URGS['Account No'].apply(\n",
    "    lambda x: x[:2] + '-' + x[2:6] + '-' + x[6:10] + '-' + x[10:] if len(x) == 12 else x\n",
    ")\n",
    "\n",
    "\n",
    "# Optionally, preview the result\n",
    "print(df_URGS['Account No'].head())\n"
   ]
  },
  {
   "cell_type": "code",
   "execution_count": 113,
   "id": "100277c8-4b91-448d-ae71-5f8da40d7235",
   "metadata": {},
   "outputs": [],
   "source": [
    "df_URGS['Account No'] = df_URGS['Account No'].astype('string')\n"
   ]
  },
  {
   "cell_type": "code",
   "execution_count": 114,
   "id": "281f2d98-4ee8-4f77-8c68-71e4e2832234",
   "metadata": {},
   "outputs": [],
   "source": [
    "df_URGS['Account No'] = df_URGS['Account No'].str.strip()"
   ]
  },
  {
   "cell_type": "code",
   "execution_count": 115,
   "id": "d07c9f35-bf7e-48c4-9706-57afe28c358d",
   "metadata": {},
   "outputs": [
    {
     "name": "stdout",
     "output_type": "stream",
     "text": [
      "<class 'pandas.core.frame.DataFrame'>\n",
      "RangeIndex: 536 entries, 0 to 535\n",
      "Data columns (total 8 columns):\n",
      " #   Column           Non-Null Count  Dtype         \n",
      "---  ------           --------------  -----         \n",
      " 0   Submission Date  536 non-null    datetime64[ns]\n",
      " 1   Account No       536 non-null    string        \n",
      " 2   Suburb           536 non-null    object        \n",
      " 3   Status           536 non-null    object        \n",
      " 4   Submitted        536 non-null    object        \n",
      " 5   Received         536 non-null    object        \n",
      " 6   Total Owing      536 non-null    float64       \n",
      " 7   Year             536 non-null    int32         \n",
      "dtypes: datetime64[ns](1), float64(1), int32(1), object(4), string(1)\n",
      "memory usage: 31.5+ KB\n"
     ]
    }
   ],
   "source": [
    "df_URGS.info()"
   ]
  },
  {
   "cell_type": "code",
   "execution_count": 116,
   "id": "b80d7fc2-87b6-4733-a68e-aaffb22e2bcf",
   "metadata": {},
   "outputs": [
    {
     "name": "stdout",
     "output_type": "stream",
     "text": [
      "Number of Account No values with 14 characters: 0\n",
      "Number of Account No values with 15 characters: 519\n",
      "Number of Account No values with 16 characters: 0\n"
     ]
    }
   ],
   "source": [
    "# Ensure the Account No column is treated as a string\n",
    "df_URGS['Account No'] = df_URGS['Account No'].astype(str)\n",
    "\n",
    "# Count the lengths using boolean masks\n",
    "count_14 = (df_URGS['Account No'].str.len() == 14).sum()\n",
    "count_15 = (df_URGS['Account No'].str.len() == 15).sum()\n",
    "count_16 = (df_URGS['Account No'].str.len() == 16).sum()\n",
    "\n",
    "print(\"Number of Account No values with 14 characters:\", count_14)\n",
    "print(\"Number of Account No values with 15 characters:\", count_15)\n",
    "print(\"Number of Account No values with 16 characters:\", count_16)\n"
   ]
  },
  {
   "cell_type": "code",
   "execution_count": 118,
   "id": "438b98e5-661e-40d5-a46f-f84278a77030",
   "metadata": {},
   "outputs": [
    {
     "name": "stdout",
     "output_type": "stream",
     "text": [
      "Account numbers that are not 15 characters long and their lengths:\n",
      "        Account No  Account No Length\n",
      "0    9330140850015                 13\n",
      "38   93335003 5010                 13\n",
      "93   933367    615                 13\n",
      "146             93                  2\n",
      "162  9332480700001                 13\n",
      "182  9331182150017                 13\n",
      "183  9330341000022                 13\n",
      "199  9333101100040                 13\n",
      "283  9330461050013                 13\n",
      "311  9333100550047                 13\n",
      "329  9332371100045                 13\n",
      "343  9331000600029                 13\n",
      "345  9331000600029                 13\n",
      "357  9331303340001                 13\n",
      "494  9330632400014                 13\n",
      "497  9331762500011                 13\n",
      "506           <NA>                  4\n"
     ]
    }
   ],
   "source": [
    "# Ensure \"Account No\" is a string (if not already)\n",
    "df_URGS['Account No'] = df_URGS['Account No'].astype(str)\n",
    "\n",
    "# Create a new column that calculates the length of each account number\n",
    "df_URGS['Account No Length'] = df_URGS['Account No'].str.len()\n",
    "\n",
    "# Filter account numbers that are not 15 characters long and select both relevant columns\n",
    "invalid_accounts = df_URGS.loc[df_URGS['Account No Length'] != 15, ['Account No', 'Account No Length']]\n",
    "\n",
    "# Print the result\n",
    "print(\"Account numbers that are not 15 characters long and their lengths:\")\n",
    "print(invalid_accounts)\n"
   ]
  },
  {
   "cell_type": "code",
   "execution_count": 29,
   "id": "b6255f4f-e663-4908-9da8-2f5acd0878b2",
   "metadata": {},
   "outputs": [
    {
     "name": "stdout",
     "output_type": "stream",
     "text": [
      "Minimum length of Account No: 2\n",
      "Maximum length of Account No: 15\n"
     ]
    }
   ],
   "source": [
    "# Ensure the Account No column is treated as a string\n",
    "df_URGS['Account No'] = df_URGS['Account No'].astype(str)\n",
    "\n",
    "# Get the length of each Account No string\n",
    "lengths = df_URGS['Account No'].str.len()\n",
    "\n",
    "# Calculate the minimum and maximum length\n",
    "min_length = lengths.min()\n",
    "max_length = lengths.max()\n",
    "\n",
    "print(\"Minimum length of Account No:\", min_length)\n",
    "print(\"Maximum length of Account No:\", max_length)\n"
   ]
  },
  {
   "cell_type": "code",
   "execution_count": 30,
   "id": "31d35dc3-51fa-4556-bd90-ea11d95a23a0",
   "metadata": {},
   "outputs": [
    {
     "name": "stdout",
     "output_type": "stream",
     "text": [
      "146                 93\n",
      "506               <NA>\n",
      "276         9330271050\n",
      "395         9331441150\n",
      "396         9332513850\n",
      "            ...       \n",
      "176    93-3138-0650-01\n",
      "175    93-3119-0150-01\n",
      "174    93-3374-0750-01\n",
      "172    93-3271-0350-01\n",
      "535    93-3334-0300-05\n",
      "Name: Account No, Length: 536, dtype: object\n"
     ]
    }
   ],
   "source": [
    "# Ensure \"Account No\" is treated as a string\n",
    "df_URGS['Account No'] = df_URGS['Account No'].astype(str)\n",
    "\n",
    "# Sort the account numbers by their length using a lambda function as the key\n",
    "sorted_accounts = df_URGS['Account No'].sort_values(key=lambda x: x.str.len())\n",
    "\n",
    "# Print the sorted account numbers\n",
    "print(sorted_accounts)\n"
   ]
  },
  {
   "cell_type": "code",
   "execution_count": 31,
   "id": "c8153763-cc94-4238-a488-ad6f5fcc5693",
   "metadata": {},
   "outputs": [
    {
     "data": {
      "image/png": "[encoded data removed]",
      "text/plain": [
       "<Figure size 1000x600 with 1 Axes>"
      ]
     },
     "metadata": {},
     "output_type": "display_data"
    }
   ],
   "source": [
    "\n",
    "# Extract the year from \"Submission Date\"\n",
    "df_URGS['Year'] = df_URGS['Submission Date'].dt.year\n",
    "\n",
    "# Group by 'Year' and 'Status', then count the occurrences\n",
    "group_counts = df_URGS.groupby(['Year', 'Status']).size().unstack(fill_value=0)\n",
    "\n",
    "# Plot the data as a stacked bar chart\n",
    "group_counts.plot(kind='bar', stacked=True, figsize=(10, 6))\n",
    "\n",
    "plt.xlabel('Year')\n",
    "plt.ylabel('Count')\n",
    "plt.title('Submissions by Year and Status (Stacked)')\n",
    "plt.legend(title='Status')\n",
    "\n",
    "plt.grid(axis='y', color='lightgrey', linestyle='--', linewidth=0.7)\n",
    "\n",
    "\n",
    "# Display the plot\n",
    "plt.tight_layout()\n",
    "plt.show()\n"
   ]
  },
  {
   "cell_type": "code",
   "execution_count": 32,
   "id": "9b5a72e1-0dbe-432f-a6a5-9ba78fbdfb0b",
   "metadata": {},
   "outputs": [
    {
     "data": {
      "image/png": "[encoded data removed]",
      "text/plain": [
       "<Figure size 1000x600 with 1 Axes>"
      ]
     },
     "metadata": {},
     "output_type": "display_data"
    }
   ],
   "source": [
    "# Extract the year from \"Submission Date\"\n",
    "df_URGS['Year'] = df_URGS['Submission Date'].dt.year\n",
    "\n",
    "# Group by 'Year' and 'Status' and sum the \"Total Owing\" for each group\n",
    "total_owing_by_group = df_URGS.groupby(['Year', 'Status'])['Total Owing'].sum().unstack(fill_value=0)\n",
    "\n",
    "# Plot the totals as a stacked bar chart\n",
    "ax = total_owing_by_group.plot(kind='bar', stacked=True, figsize=(10, 6))\n",
    "ax.set_xlabel('Year')\n",
    "ax.set_ylabel('Total Owing')\n",
    "ax.set_title('Total Owing by Year and Status (Stacked)')\n",
    "\n",
    "# Add light grey horizontal gridlines\n",
    "ax.grid(axis='y', color='lightgrey', linestyle='--', linewidth=0.7)\n",
    "\n",
    "plt.legend(title='Status')\n",
    "plt.tight_layout()\n",
    "plt.show()\n"
   ]
  },
  {
   "cell_type": "code",
   "execution_count": 33,
   "id": "3330bac7-5411-4589-9700-5f35eeed3bd0",
   "metadata": {},
   "outputs": [
    {
     "name": "stdout",
     "output_type": "stream",
     "text": [
      "Columns (Index): Index(['Submission Date', 'Account No', 'Suburb', 'Status', 'Submitted',\n",
      "       'Received', 'Total Owing', 'Year'],\n",
      "      dtype='object')\n"
     ]
    }
   ],
   "source": [
    "columns_index = df_URGS.columns\n",
    "print(\"Columns (Index):\", columns_index)\n"
   ]
  },
  {
   "cell_type": "code",
   "execution_count": 34,
   "id": "dcf5bcf2-f8ed-449e-b482-aeca827098ae",
   "metadata": {},
   "outputs": [
    {
     "name": "stdout",
     "output_type": "stream",
     "text": [
      "Account numbers with multiple submissions:\n",
      "Account No\n",
      "93-3198-0100-01    6\n",
      "93-3034-7550-01    5\n",
      "93-3279-0600-02    5\n",
      "93-3045-1250-01    5\n",
      "93-3360-2050-01    4\n",
      "                  ..\n",
      "93-3185-0400-01    2\n",
      "93-3241-1200-06    2\n",
      "93-3355-0900-01    2\n",
      "93-3130-1020-01    2\n",
      "93-3268-3950-07    2\n",
      "Name: count, Length: 80, dtype: int64\n"
     ]
    }
   ],
   "source": [
    "# Count occurrences of each 'Account No'\n",
    "account_counts = df_URGS['Account No'].value_counts()\n",
    "\n",
    "# Filter to only include accounts with more than one submission\n",
    "multiple_subs = account_counts[account_counts > 1]\n",
    "\n",
    "print(\"Account numbers with multiple submissions:\")\n",
    "print(multiple_subs)\n"
   ]
  },
  {
   "cell_type": "code",
   "execution_count": 35,
   "id": "f48d5212-7537-4567-80d0-90a21d95bf2a",
   "metadata": {},
   "outputs": [
    {
     "data": {
      "image/png": "[encoded data removed]",
      "text/plain": [
       "<Figure size 1200x800 with 1 Axes>"
      ]
     },
     "metadata": {},
     "output_type": "display_data"
    }
   ],
   "source": [
    "import pandas as pd\n",
    "import matplotlib.pyplot as plt\n",
    "\n",
    "# Assuming df_URGS is your DataFrame\n",
    "# Count the submissions per 'Account No'\n",
    "account_counts = df_URGS['Account No'].value_counts()\n",
    "\n",
    "# Filter to accounts with multiple submissions\n",
    "multiple_subs = account_counts[account_counts > 1]\n",
    "\n",
    "# Sort the counts in ascending order\n",
    "multiple_subs = multiple_subs.sort_values()\n",
    "\n",
    "# Set up the plot\n",
    "plt.figure(figsize=(12, 8))\n",
    "plt.bar(multiple_subs.index, multiple_subs.values)\n",
    "\n",
    "plt.xlabel('Account No')\n",
    "plt.ylabel('Number of Submissions')\n",
    "plt.title('Accounts with Multiple Submissions')\n",
    "plt.xticks(rotation=90)  # Rotate x-axis labels if they are too long\n",
    "\n",
    "plt.show()\n"
   ]
  },
  {
   "cell_type": "code",
   "execution_count": 36,
   "id": "91616a9c-85d4-4df3-88b0-9ca1cf62a6fe",
   "metadata": {},
   "outputs": [
    {
     "name": "stdout",
     "output_type": "stream",
     "text": [
      "Submission Summary:\n",
      "   Submission Count  Number of Accounts  Percentage\n",
      "0                 1                 338   80.861244\n",
      "1                 2                  54   12.918660\n",
      "2                 3                  19    4.545455\n",
      "3                 4                   3    0.717703\n",
      "4                 5                   3    0.717703\n",
      "5                 6                   1    0.239234\n"
     ]
    }
   ],
   "source": [
    "\n",
    "\n",
    "# Step 1: Count submissions per account.\n",
    "account_submissions = df_URGS['Account No'].value_counts()\n",
    "# account_submissions is a Series: e.g., A001: 2, A002: 2, A003: 1\n",
    "\n",
    "# Step 2: Create a frequency table: how many accounts have 1 submission, 2 submissions, etc.\n",
    "submission_summary = account_submissions.value_counts().sort_index()\n",
    "# submission_summary is a Series where the index is the submission count,\n",
    "# and the value is the number of accounts with that count.\n",
    "\n",
    "# Step 3: Calculate the total number of unique accounts.\n",
    "total_accounts = account_submissions.shape[0]\n",
    "\n",
    "# Use rename_axis to name the index and reset_index with the 'name' parameter\n",
    "summary_df = submission_summary.rename_axis('Submission Count').reset_index(name='Number of Accounts')\n",
    "\n",
    "# Step 4: Calculate the percentage for each submission count.\n",
    "summary_df['Percentage'] = (summary_df['Number of Accounts'] / total_accounts) * 100\n",
    "\n",
    "print(\"Submission Summary:\")\n",
    "print(summary_df)\n"
   ]
  },
  {
   "cell_type": "code",
   "execution_count": 37,
   "id": "0e304481-fac1-4ebc-87ab-660dab391e13",
   "metadata": {},
   "outputs": [
    {
     "name": "stdout",
     "output_type": "stream",
     "text": [
      "Submission Summary for Accounts with Multiple Submissions:\n",
      "                 Submission Count  Unique Year Count  Different Years\n",
      "Account No                                                           \n",
      "93-3198-0100-01                 6                  3            False\n",
      "93-3034-7550-01                 5                  4            False\n",
      "93-3279-0600-02                 5                  4            False\n",
      "93-3045-1250-01                 5                  3            False\n",
      "93-3360-2050-01                 4                  3            False\n",
      "...                           ...                ...              ...\n",
      "93-3185-0400-01                 2                  1            False\n",
      "93-3241-1200-06                 2                  1            False\n",
      "93-3355-0900-01                 2                  2             True\n",
      "93-3130-1020-01                 2                  2             True\n",
      "93-3268-3950-07                 2                  2             True\n",
      "\n",
      "[80 rows x 3 columns]\n"
     ]
    }
   ],
   "source": [
    "\n",
    "# Step 1: Find accounts with multiple submissions\n",
    "account_counts = df_URGS['Account No'].value_counts()\n",
    "accounts_multiple = account_counts[account_counts > 1].index\n",
    "\n",
    "# Filter the DataFrame to only include these accounts\n",
    "df_multi = df_URGS[df_URGS['Account No'].isin(accounts_multiple)]\n",
    "\n",
    "# Step 2: For each account, count the number of unique years of submission\n",
    "unique_years = df_multi.groupby('Account No')['Year'].nunique().rename(\"Unique Year Count\")\n",
    "\n",
    "# Combine the submission count with the unique year count in a summary table\n",
    "submission_summary = account_counts.loc[accounts_multiple].rename(\"Submission Count\").to_frame()\n",
    "submission_summary = submission_summary.join(unique_years)\n",
    "\n",
    "# Step 3: Add a flag to indicate if the multiple submissions occurred in different years\n",
    "submission_summary['Different Years'] = submission_summary['Unique Year Count'] == submission_summary['Submission Count']\n",
    "\n",
    "\n",
    "print(\"Submission Summary for Accounts with Multiple Submissions:\")\n",
    "print(submission_summary)\n"
   ]
  },
  {
   "cell_type": "code",
   "execution_count": 38,
   "id": "8c89b516-1299-4d30-b55a-732b79157a07",
   "metadata": {},
   "outputs": [
    {
     "name": "stdout",
     "output_type": "stream",
     "text": [
      "Sorted submission dates for account 933198010001:\n",
      "Series([], )\n"
     ]
    }
   ],
   "source": [
    "# Filter the DataFrame for account '933198010001'\n",
    "filtered_df = df_URGS[df_URGS['Account No'] == '933198010001'].copy()\n",
    "\n",
    "# Convert the 'Submission Date' column to datetime\n",
    "filtered_df['Submission Date'] = pd.to_datetime(filtered_df['Submission Date'])\n",
    "\n",
    "# Sort the DataFrame by 'Submission Date'\n",
    "sorted_df = filtered_df.sort_values(by='Submission Date')\n",
    "\n",
    "print(\"Sorted submission dates for account 933198010001:\")\n",
    "print(sorted_df['Submission Date'].to_string(index=False))"
   ]
  },
  {
   "cell_type": "code",
   "execution_count": 39,
   "id": "fdc9102a-0392-4139-9c62-14c3ba1c0a4d",
   "metadata": {},
   "outputs": [
    {
     "name": "stdout",
     "output_type": "stream",
     "text": [
      "Total multiple (duplicate) submissions per year:\n",
      "    Year  Duplicate Submissions\n",
      "0   2007                      0\n",
      "1   2008                      0\n",
      "2   2009                      0\n",
      "3   2010                      2\n",
      "4   2011                      2\n",
      "5   2012                      0\n",
      "6   2013                      2\n",
      "7   2014                      0\n",
      "8   2015                      0\n",
      "9   2016                      0\n",
      "10  2017                      0\n",
      "11  2018                      1\n",
      "12  2019                      3\n",
      "13  2020                      2\n",
      "14  2021                      2\n",
      "15  2022                     14\n",
      "16  2023                      6\n"
     ]
    }
   ],
   "source": [
    "\n",
    "\n",
    "# If your DataFrame does not already have a 'Year' column, you can extract it like so:\n",
    "# df_URGS['Submission Date'] = pd.to_datetime(df_URGS['Submission Date'])\n",
    "# df_URGS['Year'] = df_URGS['Submission Date'].dt.year\n",
    "\n",
    "# Step 1: Group by 'Account No' and 'Year' and count submissions for each combination.\n",
    "grouped = df_URGS.groupby(['Account No', 'Year']).size().reset_index(name='Submission Count')\n",
    "\n",
    "# Step 2: For each group (account-year), consider submissions beyond the first as duplicates.\n",
    "# For example, if an account submitted 3 times in a year, then duplicate submissions = 3 - 1 = 2.\n",
    "grouped['Duplicate Submissions'] = grouped['Submission Count'].apply(lambda count: count - 1 if count > 1 else 0)\n",
    "\n",
    "# Step 3: Group by 'Year' to calculate the total duplicate submissions per year.\n",
    "yearly_duplicates = grouped.groupby('Year')['Duplicate Submissions'].sum().reset_index()\n",
    "\n",
    "print(\"Total multiple (duplicate) submissions per year:\")\n",
    "print(yearly_duplicates)\n"
   ]
  },
  {
   "cell_type": "code",
   "execution_count": 40,
   "id": "02f9686c-21f5-4590-8c0f-2948ee5923b9",
   "metadata": {},
   "outputs": [
    {
     "data": {
      "image/png": "[encoded data removed]",
      "text/plain": [
       "<Figure size 1000x600 with 1 Axes>"
      ]
     },
     "metadata": {},
     "output_type": "display_data"
    }
   ],
   "source": [
    "# Ensure 'Submission Date' is in datetime format (if needed)\n",
    "df_URGS['Submission Date'] = pd.to_datetime(df_URGS['Submission Date'])\n",
    "\n",
    "# Step 1: Group by 'Account No' and 'Year' to get submission counts per account per year.\n",
    "grouped = df_URGS.groupby(['Account No', 'Year']).size().reset_index(name='Submission Count')\n",
    "\n",
    "# Step 2: For each account-year group, calculate duplicate submissions (each submission beyond the first is considered a duplicate).\n",
    "grouped['Duplicate Submissions'] = grouped['Submission Count'].apply(lambda count: count - 1 if count > 1 else 0)\n",
    "\n",
    "# Step 3: Group by 'Year' to get total duplicate submissions per year.\n",
    "yearly_duplicates = grouped.groupby('Year')['Duplicate Submissions'].sum().reset_index()\n",
    "\n",
    "# Step 4: Sort the DataFrame by 'Year'\n",
    "yearly_duplicates_sorted = yearly_duplicates.sort_values(by='Year')\n",
    "\n",
    "# Plot a bar chart\n",
    "plt.figure(figsize=(10, 6))\n",
    "plt.bar(yearly_duplicates_sorted['Year'].astype(str), yearly_duplicates_sorted['Duplicate Submissions'])\n",
    "plt.xlabel(\"Year\")\n",
    "plt.ylabel(\"Total Duplicate Submissions\")\n",
    "plt.title(\"Total Duplicate Submissions Per Year (Sorted by Year)\")\n",
    "plt.show()\n"
   ]
  },
  {
   "cell_type": "code",
   "execution_count": 41,
   "id": "10b0c4ab-4ffb-44d4-8de7-b69b7f366254",
   "metadata": {},
   "outputs": [],
   "source": [
    "df_hardship_aging = pd.read_csv('Hardship Aging Debt.csv')\n"
   ]
  },
  {
   "cell_type": "code",
   "execution_count": 42,
   "id": "c191da0d-eca5-451d-9733-af7dcd825f04",
   "metadata": {},
   "outputs": [
    {
     "name": "stdout",
     "output_type": "stream",
     "text": [
      "Columns (Index): Index(['Month', 'Year', 'Property No', 'Property Address / Sundry Debtor',\n",
      "       'Account No', 'Invoice Class', 'Pay Arr. Type', '30 Days', '60 Days',\n",
      "       '90 Days', '120 Days', '120 + Days', '365 Days', '365 + Days'],\n",
      "      dtype='object')\n"
     ]
    }
   ],
   "source": [
    "columns_index = df_hardship_aging.columns\n",
    "print(\"Columns (Index):\", columns_index)\n"
   ]
  },
  {
   "cell_type": "code",
   "execution_count": 43,
   "id": "15834058-20bc-48d8-9ed3-21d9671d6c2e",
   "metadata": {},
   "outputs": [
    {
     "name": "stdout",
     "output_type": "stream",
     "text": [
      "Month                               object\n",
      "Year                                object\n",
      "Property No                         object\n",
      "Property Address / Sundry Debtor    object\n",
      "Account No                          object\n",
      "Invoice Class                       object\n",
      "Pay Arr. Type                       object\n",
      "30 Days                             object\n",
      "60 Days                             object\n",
      "90 Days                             object\n",
      "120 Days                            object\n",
      "120 + Days                          object\n",
      "365 Days                            object\n",
      "365 + Days                          object\n",
      "dtype: object\n"
     ]
    }
   ],
   "source": [
    "print(df_hardship_aging.dtypes)\n"
   ]
  },
  {
   "cell_type": "code",
   "execution_count": 44,
   "id": "e3b92e4b-4b80-4e50-aaa4-4228250e594f",
   "metadata": {},
   "outputs": [
    {
     "name": "stdout",
     "output_type": "stream",
     "text": [
      "<class 'pandas.core.frame.DataFrame'>\n",
      "RangeIndex: 1425 entries, 0 to 1424\n",
      "Data columns (total 14 columns):\n",
      " #   Column                            Non-Null Count  Dtype \n",
      "---  ------                            --------------  ----- \n",
      " 0   Month                             1425 non-null   object\n",
      " 1   Year                              1425 non-null   object\n",
      " 2   Property No                       1425 non-null   object\n",
      " 3   Property Address / Sundry Debtor  1425 non-null   object\n",
      " 4   Account No                        1425 non-null   object\n",
      " 5   Invoice Class                     1425 non-null   object\n",
      " 6   Pay Arr. Type                     1425 non-null   object\n",
      " 7   30 Days                           1425 non-null   object\n",
      " 8   60 Days                           1425 non-null   object\n",
      " 9   90 Days                           1425 non-null   object\n",
      " 10  120 Days                          1425 non-null   object\n",
      " 11  120 + Days                        1425 non-null   object\n",
      " 12  365 Days                          1425 non-null   object\n",
      " 13  365 + Days                        1425 non-null   object\n",
      "dtypes: object(14)\n",
      "memory usage: 156.0+ KB\n"
     ]
    }
   ],
   "source": [
    "df_hardship_aging.info()\n"
   ]
  },
  {
   "cell_type": "code",
   "execution_count": 45,
   "id": "940093a3-af65-490f-a353-ceca3c6781f6",
   "metadata": {},
   "outputs": [
    {
     "name": "stdout",
     "output_type": "stream",
     "text": [
      "<class 'pandas.core.frame.DataFrame'>\n",
      "RangeIndex: 1425 entries, 0 to 1424\n",
      "Data columns (total 14 columns):\n",
      " #   Column                            Non-Null Count  Dtype \n",
      "---  ------                            --------------  ----- \n",
      " 0   Month                             1425 non-null   object\n",
      " 1   Year                              1425 non-null   object\n",
      " 2   Property No                       1425 non-null   object\n",
      " 3   Property Address / Sundry Debtor  1425 non-null   object\n",
      " 4   Account No                        1425 non-null   object\n",
      " 5   Invoice Class                     1425 non-null   object\n",
      " 6   Pay Arr. Type                     1425 non-null   object\n",
      " 7   30 Days                           1425 non-null   object\n",
      " 8   60 Days                           1425 non-null   object\n",
      " 9   90 Days                           1425 non-null   object\n",
      " 10  120 Days                          1425 non-null   object\n",
      " 11  120 + Days                        1425 non-null   object\n",
      " 12  365 Days                          1425 non-null   object\n",
      " 13  365 + Days                        1425 non-null   object\n",
      "dtypes: object(14)\n",
      "memory usage: 156.0+ KB\n"
     ]
    }
   ],
   "source": [
    "df_hardship_aging.info()\n"
   ]
  },
  {
   "cell_type": "code",
   "execution_count": 46,
   "id": "2c4a131f-05e2-4e8f-814f-d7d78c633a8b",
   "metadata": {},
   "outputs": [],
   "source": [
    "df_hardship_aging['Account No'] = df_hardship_aging['Account No'].str.replace('-', '', regex=False)\n"
   ]
  },
  {
   "cell_type": "code",
   "execution_count": 47,
   "id": "ca725c94-4411-413a-b73a-f8a074a0940b",
   "metadata": {},
   "outputs": [
    {
     "name": "stdout",
     "output_type": "stream",
     "text": [
      "<class 'pandas.core.frame.DataFrame'>\n",
      "RangeIndex: 1425 entries, 0 to 1424\n",
      "Data columns (total 14 columns):\n",
      " #   Column                            Non-Null Count  Dtype \n",
      "---  ------                            --------------  ----- \n",
      " 0   Month                             1425 non-null   object\n",
      " 1   Year                              1425 non-null   object\n",
      " 2   Property No                       1425 non-null   object\n",
      " 3   Property Address / Sundry Debtor  1425 non-null   object\n",
      " 4   Account No                        1425 non-null   object\n",
      " 5   Invoice Class                     1425 non-null   object\n",
      " 6   Pay Arr. Type                     1425 non-null   object\n",
      " 7   30 Days                           1425 non-null   object\n",
      " 8   60 Days                           1425 non-null   object\n",
      " 9   90 Days                           1425 non-null   object\n",
      " 10  120 Days                          1425 non-null   object\n",
      " 11  120 + Days                        1425 non-null   object\n",
      " 12  365 Days                          1425 non-null   object\n",
      " 13  365 + Days                        1425 non-null   object\n",
      "dtypes: object(14)\n",
      "memory usage: 156.0+ KB\n"
     ]
    }
   ],
   "source": [
    "df_hardship_aging.info()\n"
   ]
  },
  {
   "cell_type": "code",
   "execution_count": 48,
   "id": "f0a6ec5d-b513-421c-8db0-065c1ccae75c",
   "metadata": {},
   "outputs": [
    {
     "name": "stdout",
     "output_type": "stream",
     "text": [
      "628     520066230001\n",
      "680     520357005005\n",
      "1085    923298375001\n",
      "578     360971135001\n",
      "1010    521428105001\n",
      "759     520537035001\n",
      "931     521073225005\n",
      "727     520399265003\n",
      "70      024343020001\n",
      "123     044146080004\n",
      "Name: Account No, dtype: object\n"
     ]
    }
   ],
   "source": [
    "sample_accounts = df_hardship_aging['Account No'].sample(10, random_state=42)\n",
    "print(sample_accounts)\n"
   ]
  },
  {
   "cell_type": "code",
   "execution_count": 49,
   "id": "d145b999-2301-446a-903a-669c1baecea7",
   "metadata": {},
   "outputs": [
    {
     "name": "stdout",
     "output_type": "stream",
     "text": [
      "<class 'pandas.core.frame.DataFrame'>\n",
      "RangeIndex: 536 entries, 0 to 535\n",
      "Data columns (total 8 columns):\n",
      " #   Column           Non-Null Count  Dtype         \n",
      "---  ------           --------------  -----         \n",
      " 0   Submission Date  536 non-null    datetime64[ns]\n",
      " 1   Account No       536 non-null    object        \n",
      " 2   Suburb           536 non-null    object        \n",
      " 3   Status           536 non-null    object        \n",
      " 4   Submitted        536 non-null    object        \n",
      " 5   Received         536 non-null    object        \n",
      " 6   Total Owing      536 non-null    float64       \n",
      " 7   Year             536 non-null    int32         \n",
      "dtypes: datetime64[ns](1), float64(1), int32(1), object(5)\n",
      "memory usage: 31.5+ KB\n"
     ]
    }
   ],
   "source": [
    "df_URGS.info()"
   ]
  },
  {
   "cell_type": "code",
   "execution_count": 50,
   "id": "0bd26d9c-54a5-4279-b795-74281bc8f9f7",
   "metadata": {},
   "outputs": [
    {
     "name": "stdout",
     "output_type": "stream",
     "text": [
      "117    93-3367-2550-07\n",
      "132    93-3374-1200-06\n",
      "154    93-3144-0750-01\n",
      "245    93-3360-2050-01\n",
      "84     93-3061-0700-01\n",
      "346    93-3364-1600-01\n",
      "6      93-3149-2300-01\n",
      "478    93-3300-0200-01\n",
      "182      9331182150017\n",
      "55     93-3241-0650-02\n",
      "Name: Account No, dtype: object\n"
     ]
    }
   ],
   "source": [
    "sample_accounts = df_URGS['Account No'].sample(10, random_state=42)\n",
    "print(sample_accounts)\n"
   ]
  },
  {
   "cell_type": "code",
   "execution_count": 51,
   "id": "4889a029-0f07-4a21-8b58-ec7614fc0a28",
   "metadata": {},
   "outputs": [
    {
     "name": "stdout",
     "output_type": "stream",
     "text": [
      "628      May\n",
      "680      Oct\n",
      "1085     May\n",
      "578      Apr\n",
      "1010     Nov\n",
      "759      Jan\n",
      "931      Aug\n",
      "727      Feb\n",
      "70      June\n",
      "123      Apr\n",
      "Name: Month, dtype: object\n"
     ]
    }
   ],
   "source": [
    "sample_accounts = df_hardship_aging['Month'].sample(10, random_state=42)\n",
    "print(sample_accounts)\n"
   ]
  },
  {
   "cell_type": "code",
   "execution_count": 52,
   "id": "cbbfe88e-8486-4e62-b32f-1dc36e01f0be",
   "metadata": {},
   "outputs": [
    {
     "name": "stdout",
     "output_type": "stream",
     "text": [
      "628     2023-24\n",
      "680     2024-25\n",
      "1085    2023-24\n",
      "578     2023-24\n",
      "1010    2023-24\n",
      "759     2023-24\n",
      "931     2023-24\n",
      "727     2023-24\n",
      "70      2023-24\n",
      "123     2023-24\n",
      "Name: Year, dtype: object\n"
     ]
    }
   ],
   "source": [
    "sample_accounts = df_hardship_aging['Year'].sample(10, random_state=42)\n",
    "print(sample_accounts)\n"
   ]
  },
  {
   "cell_type": "code",
   "execution_count": 53,
   "id": "ce76f6eb-f46b-4008-93be-7ee4c59b670a",
   "metadata": {},
   "outputs": [
    {
     "name": "stdout",
     "output_type": "stream",
     "text": [
      "  Month  Month_num\n",
      "0  July          7\n",
      "1   Aug          8\n",
      "2  Sept          9\n",
      "3   Oct         10\n",
      "4   Nov         11\n",
      "5   Jan          1\n",
      "6  July          7\n",
      "7   Aug          8\n",
      "8  Sept          9\n",
      "9   Oct         10\n"
     ]
    }
   ],
   "source": [
    "# Create a mapping dictionary\n",
    "month_mapping = {\n",
    "    'Jan': 1, 'January': 1,\n",
    "    'Feb': 2, 'February': 2,\n",
    "    'Mar': 3, 'March': 3,\n",
    "    'Apr': 4, 'April': 4,\n",
    "    'May': 5,\n",
    "    'Jun': 6, 'June': 6,\n",
    "    'Jul': 7, 'July': 7,\n",
    "    'Aug': 8, 'August': 8,\n",
    "    'Sep': 9, 'Sept': 9, 'September': 9,\n",
    "    'Oct': 10, 'October': 10,\n",
    "    'Nov': 11, 'November': 11,\n",
    "    'Dec': 12, 'December': 12\n",
    "}\n",
    "\n",
    "# Map the month names in the 'Month' column to their numerical values and create a new column 'Month_num'\n",
    "df_hardship_aging['Month_num'] = df_hardship_aging['Month'].map(month_mapping)\n",
    "\n",
    "# Optionally, view the results\n",
    "print(df_hardship_aging[['Month', 'Month_num']].head(10))\n"
   ]
  },
  {
   "cell_type": "code",
   "execution_count": 54,
   "id": "43a6c635-5b35-4887-a535-3adfaf665c1b",
   "metadata": {},
   "outputs": [
    {
     "name": "stdout",
     "output_type": "stream",
     "text": [
      "      Year Month  Calendar_Year\n",
      "0  2023-24  July           2023\n",
      "1  2023-24   Aug           2023\n",
      "2  2023-24  Sept           2023\n",
      "3  2023-24   Oct           2023\n",
      "4  2023-24   Nov           2023\n",
      "5  2023-24   Jan           2024\n",
      "6  2023-24  July           2023\n",
      "7  2023-24   Aug           2023\n",
      "8  2023-24  Sept           2023\n",
      "9  2023-24   Oct           2023\n"
     ]
    }
   ],
   "source": [
    "import pandas as pd\n",
    "\n",
    "# Example helper function to compute the calendar year\n",
    "def compute_calendar_year(row):\n",
    "    # Extract academic year parts: for \"2023-24\", start_year will be 2023\n",
    "    year_str = row['Year']\n",
    "    start_year = int(year_str.split('-')[0])\n",
    "    end_year = start_year + 1  # academic year spans one year\n",
    "    \n",
    "    # Extract the month from the 'Month' column\n",
    "    month = row['Month'].strip()  # use strip() in case of extra spaces\n",
    "    \n",
    "    # Define months that belong to the later calendar year (Jan to Jun)\n",
    "    months_jan_to_jun = ['Jan', 'Feb', 'Mar', 'Apr', 'May', 'June']\n",
    "    \n",
    "    # Return the corresponding calendar year based on the month\n",
    "    if month in months_jan_to_jun:\n",
    "        return end_year\n",
    "    else:\n",
    "        return start_year\n",
    "\n",
    "# Apply the helper function to each row of the DataFrame\n",
    "df_hardship_aging['Calendar_Year'] = df_hardship_aging.apply(compute_calendar_year, axis=1)\n",
    "\n",
    "# Optionally, inspect the result\n",
    "print(df_hardship_aging[['Year', 'Month', 'Calendar_Year']].head(10))\n"
   ]
  },
  {
   "cell_type": "code",
   "execution_count": 55,
   "id": "7e529e54-56b2-4b48-bd20-6e279a9ca147",
   "metadata": {},
   "outputs": [
    {
     "name": "stdout",
     "output_type": "stream",
     "text": [
      "       Year Month  Calendar_Year\n",
      "0   2023-24  July           2023\n",
      "1   2023-24   Aug           2023\n",
      "2   2023-24  Sept           2023\n",
      "3   2023-24   Oct           2023\n",
      "4   2023-24   Nov           2023\n",
      "5   2023-24   Jan           2024\n",
      "6   2023-24  July           2023\n",
      "7   2023-24   Aug           2023\n",
      "8   2023-24  Sept           2023\n",
      "9   2023-24   Oct           2023\n",
      "10  2023-24   Nov           2023\n",
      "11  2023-24   Dec           2023\n",
      "12  2023-24   Jan           2024\n",
      "13  2023-24   Feb           2024\n",
      "14  2023-24   Mar           2024\n",
      "15  2023-24   Apr           2024\n",
      "16  2023-24   May           2024\n",
      "17  2023-24  June           2024\n",
      "18  2024-25  July           2024\n",
      "19  2024-25   Aug           2024\n",
      "20  2024-25  Sept           2024\n",
      "21  2024-25   Oct           2024\n",
      "22  2023-24  June           2024\n",
      "23  2024-25  July           2024\n",
      "24  2024-25   Aug           2024\n",
      "25  2024-25  Sept           2024\n",
      "26  2024-25   Oct           2024\n",
      "27  2023-24  July           2023\n",
      "28  2023-24   Aug           2023\n",
      "29  2023-24  Sept           2023\n"
     ]
    }
   ],
   "source": [
    "print(df_hardship_aging[['Year', 'Month', 'Calendar_Year']].head(30))"
   ]
  },
  {
   "cell_type": "code",
   "execution_count": 56,
   "id": "100d31b9-ffef-461d-818e-745ee00f1f3d",
   "metadata": {},
   "outputs": [
    {
     "name": "stdout",
     "output_type": "stream",
     "text": [
      "<class 'pandas.core.frame.DataFrame'>\n",
      "RangeIndex: 536 entries, 0 to 535\n",
      "Data columns (total 8 columns):\n",
      " #   Column           Non-Null Count  Dtype         \n",
      "---  ------           --------------  -----         \n",
      " 0   Submission Date  536 non-null    datetime64[ns]\n",
      " 1   Account No       536 non-null    object        \n",
      " 2   Suburb           536 non-null    object        \n",
      " 3   Status           536 non-null    object        \n",
      " 4   Submitted        536 non-null    object        \n",
      " 5   Received         536 non-null    object        \n",
      " 6   Total Owing      536 non-null    float64       \n",
      " 7   Year             536 non-null    int32         \n",
      "dtypes: datetime64[ns](1), float64(1), int32(1), object(5)\n",
      "memory usage: 31.5+ KB\n"
     ]
    }
   ],
   "source": [
    "df_URGS.info()"
   ]
  },
  {
   "cell_type": "code",
   "execution_count": 57,
   "id": "5b7cc9f1-2213-4568-9904-1db00a428023",
   "metadata": {},
   "outputs": [],
   "source": [
    "# Convert Account No to numeric in both dataframes without using .str accessor\n",
    "df_hardship_aging['Account No'] = pd.to_numeric(df_hardship_aging['Account No'], errors='coerce')\n",
    "df_URGS['Account No'] = pd.to_numeric(df_URGS['Account No'], errors='coerce')\n"
   ]
  },
  {
   "cell_type": "code",
   "execution_count": 58,
   "id": "6d646c3e-e9eb-4fe3-8b9e-f46abdfd4ef2",
   "metadata": {},
   "outputs": [
    {
     "name": "stdout",
     "output_type": "stream",
     "text": [
      "int64\n",
      "int64\n"
     ]
    }
   ],
   "source": [
    "# For df_URGS, drop rows with missing Account No values, then convert to int64\n",
    "df_URGS = df_URGS[df_URGS['Account No'].notna()].copy()\n",
    "df_URGS['Account No'] = df_URGS['Account No'].astype('int64')\n",
    "\n",
    "# For df_hardship_aging, ensure Account No is also int64 (if it isn't already)\n",
    "df_hardship_aging['Account No'] = df_hardship_aging['Account No'].astype('int64')\n",
    "\n",
    "# Optionally verify the types\n",
    "print(df_URGS['Account No'].dtype)\n",
    "print(df_hardship_aging['Account No'].dtype)\n"
   ]
  },
  {
   "cell_type": "code",
   "execution_count": 59,
   "id": "f351ec07-827f-40c1-a09b-2eeab7085d2a",
   "metadata": {},
   "outputs": [
    {
     "name": "stdout",
     "output_type": "stream",
     "text": [
      "<class 'pandas.core.frame.DataFrame'>\n",
      "RangeIndex: 1425 entries, 0 to 1424\n",
      "Data columns (total 16 columns):\n",
      " #   Column                            Non-Null Count  Dtype \n",
      "---  ------                            --------------  ----- \n",
      " 0   Month                             1425 non-null   object\n",
      " 1   Year                              1425 non-null   object\n",
      " 2   Property No                       1425 non-null   object\n",
      " 3   Property Address / Sundry Debtor  1425 non-null   object\n",
      " 4   Account No                        1425 non-null   int64 \n",
      " 5   Invoice Class                     1425 non-null   object\n",
      " 6   Pay Arr. Type                     1425 non-null   object\n",
      " 7   30 Days                           1425 non-null   object\n",
      " 8   60 Days                           1425 non-null   object\n",
      " 9   90 Days                           1425 non-null   object\n",
      " 10  120 Days                          1425 non-null   object\n",
      " 11  120 + Days                        1425 non-null   object\n",
      " 12  365 Days                          1425 non-null   object\n",
      " 13  365 + Days                        1425 non-null   object\n",
      " 14  Month_num                         1425 non-null   int64 \n",
      " 15  Calendar_Year                     1425 non-null   int64 \n",
      "dtypes: int64(3), object(13)\n",
      "memory usage: 178.3+ KB\n"
     ]
    }
   ],
   "source": [
    "df_hardship_aging.info()"
   ]
  },
  {
   "cell_type": "code",
   "execution_count": 60,
   "id": "02114146-efbc-4383-ba6a-932029305116",
   "metadata": {},
   "outputs": [
    {
     "name": "stdout",
     "output_type": "stream",
     "text": [
      "   30 Days  60 Days  90 Days  120 Days  120 + Days  365 Days  365 + Days  \\\n",
      "0    41.79     0.00     0.00     37.18       18.19     18.19         0.0   \n",
      "1     0.00    41.79     0.00      0.00       35.37     35.37         0.0   \n",
      "2     0.00     0.00    27.16      0.00        0.00      0.00         0.0   \n",
      "3    36.49     0.00     0.00      7.16        0.00      0.00         0.0   \n",
      "4     0.00    33.65     0.00      0.00        0.00      0.00         0.0   \n",
      "\n",
      "   total_debt  \n",
      "0      115.35  \n",
      "1      112.53  \n",
      "2       27.16  \n",
      "3       43.65  \n",
      "4       33.65  \n"
     ]
    }
   ],
   "source": [
    "# List of debt columns to be summed\n",
    "debt_columns = [\"30 Days\", \"60 Days\", \"90 Days\", \"120 Days\", \"120 + Days\", \"365 Days\", \"365 + Days\"]\n",
    "\n",
    "# Clean and convert each debt column to numeric.\n",
    "for col in debt_columns:\n",
    "    # Remove any characters except digits and the decimal point, then convert to numeric.\n",
    "    df_hardship_aging[col] = pd.to_numeric(df_hardship_aging[col].replace(r'[^\\d.]', '', regex=True), errors='coerce')\n",
    "\n",
    "# Create the total_debt column as the sum across the cleaned columns.\n",
    "df_hardship_aging['total_debt'] = df_hardship_aging[debt_columns].sum(axis=1)\n",
    "\n",
    "# Optionally, inspect the first few rows to verify the results\n",
    "print(df_hardship_aging[debt_columns + ['total_debt']].head())\n"
   ]
  },
  {
   "cell_type": "code",
   "execution_count": 61,
   "id": "fb883b9e-ef59-4178-a621-bc55acbc0c7c",
   "metadata": {},
   "outputs": [
    {
     "name": "stdout",
     "output_type": "stream",
     "text": [
      "<class 'pandas.core.frame.DataFrame'>\n",
      "RangeIndex: 1425 entries, 0 to 1424\n",
      "Data columns (total 17 columns):\n",
      " #   Column                            Non-Null Count  Dtype  \n",
      "---  ------                            --------------  -----  \n",
      " 0   Month                             1425 non-null   object \n",
      " 1   Year                              1425 non-null   object \n",
      " 2   Property No                       1425 non-null   object \n",
      " 3   Property Address / Sundry Debtor  1425 non-null   object \n",
      " 4   Account No                        1425 non-null   int64  \n",
      " 5   Invoice Class                     1425 non-null   object \n",
      " 6   Pay Arr. Type                     1425 non-null   object \n",
      " 7   30 Days                           1425 non-null   float64\n",
      " 8   60 Days                           1425 non-null   float64\n",
      " 9   90 Days                           1425 non-null   float64\n",
      " 10  120 Days                          1425 non-null   float64\n",
      " 11  120 + Days                        1425 non-null   float64\n",
      " 12  365 Days                          1425 non-null   float64\n",
      " 13  365 + Days                        1425 non-null   float64\n",
      " 14  Month_num                         1425 non-null   int64  \n",
      " 15  Calendar_Year                     1425 non-null   int64  \n",
      " 16  total_debt                        1425 non-null   float64\n",
      "dtypes: float64(8), int64(3), object(6)\n",
      "memory usage: 189.4+ KB\n"
     ]
    }
   ],
   "source": [
    "df_hardship_aging.info()"
   ]
  },
  {
   "cell_type": "code",
   "execution_count": 62,
   "id": "82ebe0af-e405-4608-8361-04f388d52bb0",
   "metadata": {},
   "outputs": [
    {
     "name": "stdout",
     "output_type": "stream",
     "text": [
      "         Account No      30 Days      60 Days      90 Days     120 Days  \\\n",
      "count  1.425000e+03  1425.000000  1425.000000  1425.000000  1425.000000   \n",
      "mean   4.717160e+11    86.930947    80.408477    72.875895    68.426568   \n",
      "std    3.386049e+11   173.258109   212.589191   203.524560   200.086131   \n",
      "min    1.402202e+10     0.000000     0.000000     0.000000     0.000000   \n",
      "25%    7.447703e+10     0.000000     0.000000     0.000000     0.000000   \n",
      "50%    5.203920e+11     0.000000     0.000000     0.000000     0.000000   \n",
      "75%    9.231311e+11   122.200000    70.370000    43.200000    27.120000   \n",
      "max    9.333675e+11  1426.540000  5106.340000  4986.340000  4782.630000   \n",
      "\n",
      "         120 + Days     365 Days    365 + Days    Month_num  Calendar_Year  \\\n",
      "count   1425.000000  1425.000000   1425.000000  1425.000000    1425.000000   \n",
      "mean     925.486393   388.381551    537.104842     6.940351    2023.662456   \n",
      "std     1581.247015   599.429393   1272.982636     3.127435       0.473038   \n",
      "min        0.000000     0.000000      0.000000     1.000000    2023.000000   \n",
      "25%        0.000000     0.000000      0.000000     4.000000    2023.000000   \n",
      "50%      355.640000   199.970000      0.000000     7.000000    2024.000000   \n",
      "75%     1011.170000   518.580000    480.290000     9.000000    2024.000000   \n",
      "max    16371.090000  5571.330000  15617.390000    12.000000    2024.000000   \n",
      "\n",
      "         total_debt  \n",
      "count   1425.000000  \n",
      "mean    2159.614674  \n",
      "std     3243.897654  \n",
      "min        1.700000  \n",
      "25%      354.450000  \n",
      "50%     1033.710000  \n",
      "75%     2317.540000  \n",
      "max    32994.220000  \n"
     ]
    }
   ],
   "source": [
    "print(df_hardship_aging.describe())\n"
   ]
  },
  {
   "cell_type": "code",
   "execution_count": 63,
   "id": "b780097b-9a4d-44cb-82bb-4c6b07500ccf",
   "metadata": {},
   "outputs": [
    {
     "name": "stdout",
     "output_type": "stream",
     "text": [
      "<class 'pandas.core.frame.DataFrame'>\n",
      "Index: 39 entries, 0 to 497\n",
      "Data columns (total 8 columns):\n",
      " #   Column           Non-Null Count  Dtype         \n",
      "---  ------           --------------  -----         \n",
      " 0   Submission Date  39 non-null     datetime64[ns]\n",
      " 1   Account No       39 non-null     int64         \n",
      " 2   Suburb           39 non-null     object        \n",
      " 3   Status           39 non-null     object        \n",
      " 4   Submitted        39 non-null     object        \n",
      " 5   Received         39 non-null     object        \n",
      " 6   Total Owing      39 non-null     float64       \n",
      " 7   Year             39 non-null     int32         \n",
      "dtypes: datetime64[ns](1), float64(1), int32(1), int64(1), object(4)\n",
      "memory usage: 2.6+ KB\n"
     ]
    }
   ],
   "source": [
    "df_URGS.info()"
   ]
  },
  {
   "cell_type": "code",
   "execution_count": 64,
   "id": "6c8ee555-fabf-4a5f-a268-e86f5f1004cf",
   "metadata": {},
   "outputs": [
    {
     "name": "stdout",
     "output_type": "stream",
     "text": [
      "                     Submission Date    Account No  Total Owing         Year\n",
      "count                             39  3.900000e+01    39.000000    39.000000\n",
      "mean   2014-11-05 03:41:32.307692288  3.116466e+12   595.871795  2014.410256\n",
      "min              2009-09-22 00:00:00  9.300000e+01    36.730000  2009.000000\n",
      "25%              2010-02-28 00:00:00  9.331672e+09   303.840000  2010.000000\n",
      "50%              2012-10-15 00:00:00  9.333260e+09   485.450000  2012.000000\n",
      "75%              2018-04-23 00:00:00  9.330547e+12   795.155000  2018.000000\n",
      "max              2023-10-27 00:00:00  9.333101e+12  2100.360000  2023.000000\n",
      "std                              NaN  4.452108e+12   430.760886     4.998515\n"
     ]
    }
   ],
   "source": [
    "print(df_URGS.describe())"
   ]
  },
  {
   "cell_type": "code",
   "execution_count": 65,
   "id": "6504b590-f95e-412b-9743-0cbee3a4c4e6",
   "metadata": {},
   "outputs": [
    {
     "name": "stdout",
     "output_type": "stream",
     "text": [
      "    Submission Date  Month_num\n",
      "0        2023-10-27         10\n",
      "10       2016-07-25          7\n",
      "23       2014-06-10          6\n",
      "27       2022-09-09          9\n",
      "146      2015-05-13          5\n"
     ]
    }
   ],
   "source": [
    "# Ensure 'Submission Date' is a datetime column. If it's not, convert it:\n",
    "df_URGS['Submission Date'] = pd.to_datetime(df_URGS['Submission Date'], errors='coerce')\n",
    "\n",
    "# Extract the month number and create a new column 'Month_num'\n",
    "df_URGS['Month_num'] = df_URGS['Submission Date'].dt.month\n",
    "\n",
    "# Optionally, inspect the results\n",
    "print(df_URGS[['Submission Date', 'Month_num']].head())\n"
   ]
  },
  {
   "cell_type": "code",
   "execution_count": 66,
   "id": "1fa68658-6830-4584-8f6e-1032878af22c",
   "metadata": {},
   "outputs": [
    {
     "name": "stdout",
     "output_type": "stream",
     "text": [
      "Index(['Submission Date', 'Account No', 'Suburb', 'Status', 'Submitted',\n",
      "       'Received', 'Total Owing', 'Calendar_year', 'Month_num'],\n",
      "      dtype='object')\n"
     ]
    }
   ],
   "source": [
    "df_URGS.rename(columns={'Year': 'Calendar_year'}, inplace=True)\n",
    "\n",
    "# Optionally, check the updated column names\n",
    "print(df_URGS.columns)\n"
   ]
  },
  {
   "cell_type": "code",
   "execution_count": 67,
   "id": "83770832-4fb9-4e9c-879f-f5c6eb391e5a",
   "metadata": {},
   "outputs": [
    {
     "name": "stdout",
     "output_type": "stream",
     "text": [
      "    Submission Date  Month_num  Calendar_year\n",
      "0        2023-10-27         10           2023\n",
      "10       2016-07-25          7           2016\n",
      "23       2014-06-10          6           2014\n",
      "27       2022-09-09          9           2022\n",
      "146      2015-05-13          5           2015\n"
     ]
    }
   ],
   "source": [
    "print(df_URGS[['Submission Date', 'Month_num', 'Calendar_year']].head())\n"
   ]
  },
  {
   "cell_type": "code",
   "execution_count": 68,
   "id": "79481ab6-a451-48a7-bf1e-cae0cbfc9ad5",
   "metadata": {},
   "outputs": [
    {
     "ename": "KeyError",
     "evalue": "'Month_num'",
     "output_type": "error",
     "traceback": [
      "\u001b[1;31m---------------------------------------------------------------------------\u001b[0m",
      "\u001b[1;31mKeyError\u001b[0m                                  Traceback (most recent call last)",
      "\u001b[1;32m~\\AppData\\Local\\Temp\\ipykernel_75428\\5889821.py\u001b[0m in \u001b[0;36m?\u001b[1;34m()\u001b[0m\n\u001b[0;32m      1\u001b[0m \u001b[1;31m# Step 1: Rename the Calendar_Year column in df_hardship_aging to match the URGS column name\u001b[0m\u001b[1;33m\u001b[0m\u001b[1;33m\u001b[0m\u001b[0m\n\u001b[0;32m      2\u001b[0m \u001b[0mdf_hardship_aging\u001b[0m\u001b[1;33m.\u001b[0m\u001b[0mrename\u001b[0m\u001b[1;33m(\u001b[0m\u001b[0mcolumns\u001b[0m\u001b[1;33m=\u001b[0m\u001b[1;33m{\u001b[0m\u001b[1;34m'Calendar_Year'\u001b[0m\u001b[1;33m:\u001b[0m \u001b[1;34m'Calendar_year'\u001b[0m\u001b[1;33m}\u001b[0m\u001b[1;33m,\u001b[0m \u001b[0minplace\u001b[0m\u001b[1;33m=\u001b[0m\u001b[1;32mTrue\u001b[0m\u001b[1;33m)\u001b[0m\u001b[1;33m\u001b[0m\u001b[1;33m\u001b[0m\u001b[0m\n\u001b[0;32m      3\u001b[0m \u001b[1;33m\u001b[0m\u001b[0m\n\u001b[0;32m      4\u001b[0m \u001b[1;31m# Step 2: Merge the two DataFrames on 'Account No', 'Month_num', and 'Calendar_year'\u001b[0m\u001b[1;33m\u001b[0m\u001b[1;33m\u001b[0m\u001b[0m\n\u001b[1;32m----> 5\u001b[1;33m merged_df = pd.merge(\n\u001b[0m\u001b[0;32m      6\u001b[0m     \u001b[0mdf_URGS\u001b[0m\u001b[1;33m,\u001b[0m\u001b[1;33m\u001b[0m\u001b[1;33m\u001b[0m\u001b[0m\n\u001b[0;32m      7\u001b[0m     \u001b[0mdf_hardship_aging\u001b[0m\u001b[1;33m[\u001b[0m\u001b[1;33m[\u001b[0m\u001b[1;34m'Account No'\u001b[0m\u001b[1;33m,\u001b[0m \u001b[1;34m'Calendar_year'\u001b[0m\u001b[1;33m,\u001b[0m \u001b[1;34m'total_debt'\u001b[0m\u001b[1;33m]\u001b[0m\u001b[1;33m]\u001b[0m\u001b[1;33m,\u001b[0m\u001b[1;33m\u001b[0m\u001b[1;33m\u001b[0m\u001b[0m\n\u001b[0;32m      8\u001b[0m     \u001b[0mon\u001b[0m\u001b[1;33m=\u001b[0m\u001b[1;33m[\u001b[0m\u001b[1;34m'Account No'\u001b[0m\u001b[1;33m,\u001b[0m\u001b[1;34m'Calendar_year'\u001b[0m\u001b[1;33m,\u001b[0m \u001b[1;34m'Month_num'\u001b[0m\u001b[1;33m]\u001b[0m\u001b[1;33m,\u001b[0m\u001b[1;33m\u001b[0m\u001b[1;33m\u001b[0m\u001b[0m\n",
      "\u001b[1;32m~\\AppData\\Local\\anaconda3\\Lib\\site-packages\\pandas\\core\\reshape\\merge.py\u001b[0m in \u001b[0;36m?\u001b[1;34m(left, right, how, on, left_on, right_on, left_index, right_index, sort, suffixes, copy, indicator, validate)\u001b[0m\n\u001b[0;32m    166\u001b[0m             \u001b[0mvalidate\u001b[0m\u001b[1;33m=\u001b[0m\u001b[0mvalidate\u001b[0m\u001b[1;33m,\u001b[0m\u001b[1;33m\u001b[0m\u001b[1;33m\u001b[0m\u001b[0m\n\u001b[0;32m    167\u001b[0m             \u001b[0mcopy\u001b[0m\u001b[1;33m=\u001b[0m\u001b[0mcopy\u001b[0m\u001b[1;33m,\u001b[0m\u001b[1;33m\u001b[0m\u001b[1;33m\u001b[0m\u001b[0m\n\u001b[0;32m    168\u001b[0m         \u001b[1;33m)\u001b[0m\u001b[1;33m\u001b[0m\u001b[1;33m\u001b[0m\u001b[0m\n\u001b[0;32m    169\u001b[0m     \u001b[1;32melse\u001b[0m\u001b[1;33m:\u001b[0m\u001b[1;33m\u001b[0m\u001b[1;33m\u001b[0m\u001b[0m\n\u001b[1;32m--> 170\u001b[1;33m         op = _MergeOperation(\n\u001b[0m\u001b[0;32m    171\u001b[0m             \u001b[0mleft_df\u001b[0m\u001b[1;33m,\u001b[0m\u001b[1;33m\u001b[0m\u001b[1;33m\u001b[0m\u001b[0m\n\u001b[0;32m    172\u001b[0m             \u001b[0mright_df\u001b[0m\u001b[1;33m,\u001b[0m\u001b[1;33m\u001b[0m\u001b[1;33m\u001b[0m\u001b[0m\n\u001b[0;32m    173\u001b[0m             \u001b[0mhow\u001b[0m\u001b[1;33m=\u001b[0m\u001b[0mhow\u001b[0m\u001b[1;33m,\u001b[0m\u001b[1;33m\u001b[0m\u001b[1;33m\u001b[0m\u001b[0m\n",
      "\u001b[1;32m~\\AppData\\Local\\anaconda3\\Lib\\site-packages\\pandas\\core\\reshape\\merge.py\u001b[0m in \u001b[0;36m?\u001b[1;34m(self, left, right, how, on, left_on, right_on, left_index, right_index, sort, suffixes, indicator, validate)\u001b[0m\n\u001b[0;32m    790\u001b[0m             \u001b[0mself\u001b[0m\u001b[1;33m.\u001b[0m\u001b[0mright_join_keys\u001b[0m\u001b[1;33m,\u001b[0m\u001b[1;33m\u001b[0m\u001b[1;33m\u001b[0m\u001b[0m\n\u001b[0;32m    791\u001b[0m             \u001b[0mself\u001b[0m\u001b[1;33m.\u001b[0m\u001b[0mjoin_names\u001b[0m\u001b[1;33m,\u001b[0m\u001b[1;33m\u001b[0m\u001b[1;33m\u001b[0m\u001b[0m\n\u001b[0;32m    792\u001b[0m             \u001b[0mleft_drop\u001b[0m\u001b[1;33m,\u001b[0m\u001b[1;33m\u001b[0m\u001b[1;33m\u001b[0m\u001b[0m\n\u001b[0;32m    793\u001b[0m             \u001b[0mright_drop\u001b[0m\u001b[1;33m,\u001b[0m\u001b[1;33m\u001b[0m\u001b[1;33m\u001b[0m\u001b[0m\n\u001b[1;32m--> 794\u001b[1;33m         \u001b[1;33m)\u001b[0m \u001b[1;33m=\u001b[0m \u001b[0mself\u001b[0m\u001b[1;33m.\u001b[0m\u001b[0m_get_merge_keys\u001b[0m\u001b[1;33m(\u001b[0m\u001b[1;33m)\u001b[0m\u001b[1;33m\u001b[0m\u001b[1;33m\u001b[0m\u001b[0m\n\u001b[0m\u001b[0;32m    795\u001b[0m \u001b[1;33m\u001b[0m\u001b[0m\n\u001b[0;32m    796\u001b[0m         \u001b[1;32mif\u001b[0m \u001b[0mleft_drop\u001b[0m\u001b[1;33m:\u001b[0m\u001b[1;33m\u001b[0m\u001b[1;33m\u001b[0m\u001b[0m\n\u001b[0;32m    797\u001b[0m             \u001b[0mself\u001b[0m\u001b[1;33m.\u001b[0m\u001b[0mleft\u001b[0m \u001b[1;33m=\u001b[0m \u001b[0mself\u001b[0m\u001b[1;33m.\u001b[0m\u001b[0mleft\u001b[0m\u001b[1;33m.\u001b[0m\u001b[0m_drop_labels_or_levels\u001b[0m\u001b[1;33m(\u001b[0m\u001b[0mleft_drop\u001b[0m\u001b[1;33m)\u001b[0m\u001b[1;33m\u001b[0m\u001b[1;33m\u001b[0m\u001b[0m\n",
      "\u001b[1;32m~\\AppData\\Local\\anaconda3\\Lib\\site-packages\\pandas\\core\\reshape\\merge.py\u001b[0m in \u001b[0;36m?\u001b[1;34m(self)\u001b[0m\n\u001b[0;32m   1293\u001b[0m                         \u001b[1;31m# Then we're either Hashable or a wrong-length arraylike,\u001b[0m\u001b[1;33m\u001b[0m\u001b[1;33m\u001b[0m\u001b[0m\n\u001b[0;32m   1294\u001b[0m                         \u001b[1;31m#  the latter of which will raise\u001b[0m\u001b[1;33m\u001b[0m\u001b[1;33m\u001b[0m\u001b[0m\n\u001b[0;32m   1295\u001b[0m                         \u001b[0mrk\u001b[0m \u001b[1;33m=\u001b[0m \u001b[0mcast\u001b[0m\u001b[1;33m(\u001b[0m\u001b[0mHashable\u001b[0m\u001b[1;33m,\u001b[0m \u001b[0mrk\u001b[0m\u001b[1;33m)\u001b[0m\u001b[1;33m\u001b[0m\u001b[1;33m\u001b[0m\u001b[0m\n\u001b[0;32m   1296\u001b[0m                         \u001b[1;32mif\u001b[0m \u001b[0mrk\u001b[0m \u001b[1;32mis\u001b[0m \u001b[1;32mnot\u001b[0m \u001b[1;32mNone\u001b[0m\u001b[1;33m:\u001b[0m\u001b[1;33m\u001b[0m\u001b[1;33m\u001b[0m\u001b[0m\n\u001b[1;32m-> 1297\u001b[1;33m                             \u001b[0mright_keys\u001b[0m\u001b[1;33m.\u001b[0m\u001b[0mappend\u001b[0m\u001b[1;33m(\u001b[0m\u001b[0mright\u001b[0m\u001b[1;33m.\u001b[0m\u001b[0m_get_label_or_level_values\u001b[0m\u001b[1;33m(\u001b[0m\u001b[0mrk\u001b[0m\u001b[1;33m)\u001b[0m\u001b[1;33m)\u001b[0m\u001b[1;33m\u001b[0m\u001b[1;33m\u001b[0m\u001b[0m\n\u001b[0m\u001b[0;32m   1298\u001b[0m                         \u001b[1;32melse\u001b[0m\u001b[1;33m:\u001b[0m\u001b[1;33m\u001b[0m\u001b[1;33m\u001b[0m\u001b[0m\n\u001b[0;32m   1299\u001b[0m                             \u001b[1;31m# work-around for merge_asof(right_index=True)\u001b[0m\u001b[1;33m\u001b[0m\u001b[1;33m\u001b[0m\u001b[0m\n\u001b[0;32m   1300\u001b[0m                             \u001b[0mright_keys\u001b[0m\u001b[1;33m.\u001b[0m\u001b[0mappend\u001b[0m\u001b[1;33m(\u001b[0m\u001b[0mright\u001b[0m\u001b[1;33m.\u001b[0m\u001b[0mindex\u001b[0m\u001b[1;33m.\u001b[0m\u001b[0m_values\u001b[0m\u001b[1;33m)\u001b[0m\u001b[1;33m\u001b[0m\u001b[1;33m\u001b[0m\u001b[0m\n",
      "\u001b[1;32m~\\AppData\\Local\\anaconda3\\Lib\\site-packages\\pandas\\core\\generic.py\u001b[0m in \u001b[0;36m?\u001b[1;34m(self, key, axis)\u001b[0m\n\u001b[0;32m   1907\u001b[0m             \u001b[0mvalues\u001b[0m \u001b[1;33m=\u001b[0m \u001b[0mself\u001b[0m\u001b[1;33m.\u001b[0m\u001b[0mxs\u001b[0m\u001b[1;33m(\u001b[0m\u001b[0mkey\u001b[0m\u001b[1;33m,\u001b[0m \u001b[0maxis\u001b[0m\u001b[1;33m=\u001b[0m\u001b[0mother_axes\u001b[0m\u001b[1;33m[\u001b[0m\u001b[1;36m0\u001b[0m\u001b[1;33m]\u001b[0m\u001b[1;33m)\u001b[0m\u001b[1;33m.\u001b[0m\u001b[0m_values\u001b[0m\u001b[1;33m\u001b[0m\u001b[1;33m\u001b[0m\u001b[0m\n\u001b[0;32m   1908\u001b[0m         \u001b[1;32melif\u001b[0m \u001b[0mself\u001b[0m\u001b[1;33m.\u001b[0m\u001b[0m_is_level_reference\u001b[0m\u001b[1;33m(\u001b[0m\u001b[0mkey\u001b[0m\u001b[1;33m,\u001b[0m \u001b[0maxis\u001b[0m\u001b[1;33m=\u001b[0m\u001b[0maxis\u001b[0m\u001b[1;33m)\u001b[0m\u001b[1;33m:\u001b[0m\u001b[1;33m\u001b[0m\u001b[1;33m\u001b[0m\u001b[0m\n\u001b[0;32m   1909\u001b[0m             \u001b[0mvalues\u001b[0m \u001b[1;33m=\u001b[0m \u001b[0mself\u001b[0m\u001b[1;33m.\u001b[0m\u001b[0maxes\u001b[0m\u001b[1;33m[\u001b[0m\u001b[0maxis\u001b[0m\u001b[1;33m]\u001b[0m\u001b[1;33m.\u001b[0m\u001b[0mget_level_values\u001b[0m\u001b[1;33m(\u001b[0m\u001b[0mkey\u001b[0m\u001b[1;33m)\u001b[0m\u001b[1;33m.\u001b[0m\u001b[0m_values\u001b[0m\u001b[1;33m\u001b[0m\u001b[1;33m\u001b[0m\u001b[0m\n\u001b[0;32m   1910\u001b[0m         \u001b[1;32melse\u001b[0m\u001b[1;33m:\u001b[0m\u001b[1;33m\u001b[0m\u001b[1;33m\u001b[0m\u001b[0m\n\u001b[1;32m-> 1911\u001b[1;33m             \u001b[1;32mraise\u001b[0m \u001b[0mKeyError\u001b[0m\u001b[1;33m(\u001b[0m\u001b[0mkey\u001b[0m\u001b[1;33m)\u001b[0m\u001b[1;33m\u001b[0m\u001b[1;33m\u001b[0m\u001b[0m\n\u001b[0m\u001b[0;32m   1912\u001b[0m \u001b[1;33m\u001b[0m\u001b[0m\n\u001b[0;32m   1913\u001b[0m         \u001b[1;31m# Check for duplicates\u001b[0m\u001b[1;33m\u001b[0m\u001b[1;33m\u001b[0m\u001b[0m\n\u001b[0;32m   1914\u001b[0m         \u001b[1;32mif\u001b[0m \u001b[0mvalues\u001b[0m\u001b[1;33m.\u001b[0m\u001b[0mndim\u001b[0m \u001b[1;33m>\u001b[0m \u001b[1;36m1\u001b[0m\u001b[1;33m:\u001b[0m\u001b[1;33m\u001b[0m\u001b[1;33m\u001b[0m\u001b[0m\n",
      "\u001b[1;31mKeyError\u001b[0m: 'Month_num'"
     ]
    }
   ],
   "source": [
    "# Step 1: Rename the Calendar_Year column in df_hardship_aging to match the URGS column name\n",
    "df_hardship_aging.rename(columns={'Calendar_Year': 'Calendar_year'}, inplace=True)\n",
    "\n",
    "# Step 2: Merge the two DataFrames on 'Account No', 'Month_num', and 'Calendar_year'\n",
    "merged_df = pd.merge(\n",
    "    df_URGS,\n",
    "    df_hardship_aging[['Account No', 'Calendar_year', 'total_debt']],\n",
    "    on=['Account No','Calendar_year', 'Month_num'],\n",
    "    how='left'\n",
    ")\n",
    "\n",
    "# Step 3: Rename the joined column to \"Debt At Submission\" in the merged DataFrame\n",
    "merged_df.rename(columns={'total_debt': 'Debt At Submission'}, inplace=True)\n",
    "\n",
    "# Optionally, if you want df_URGS to reflect this new column, assign merged_df back to df_URGS\n",
    "df_URGS = merged_df\n",
    "\n",
    "# Inspect the result\n",
    "print(df_URGS.head())\n"
   ]
  },
  {
   "cell_type": "code",
   "execution_count": null,
   "id": "bbcb3555-a2de-4e85-b2c7-f6bfee6f4708",
   "metadata": {},
   "outputs": [],
   "source": [
    "nan_debt_count = df_URGS['Debt At Submission'].isna().sum()\n",
    "print(\"Number of submissions with NaN Debt At Submission:\", nan_debt_count)\n"
   ]
  },
  {
   "cell_type": "code",
   "execution_count": null,
   "id": "ec1ee8bd-806f-44a2-9bd6-9edb6cbce9ea",
   "metadata": {},
   "outputs": [],
   "source": [
    "value_count = df_URGS['Debt At Submission'].notna().sum()\n",
    "print(\"Number of submissions with a value for Debt At Submission:\", value_count)\n"
   ]
  },
  {
   "cell_type": "code",
   "execution_count": null,
   "id": "d09ee72e-73f5-4d36-a76b-fb2aae85db26",
   "metadata": {},
   "outputs": [],
   "source": []
  },
  {
   "cell_type": "code",
   "execution_count": null,
   "id": "8aceeb5c-0410-4b43-a968-7c13f3423935",
   "metadata": {},
   "outputs": [],
   "source": [
    "sample_accounts = df_URGS['Account No'].sample(10, random_state=42)\n",
    "print(sample_accounts)\n"
   ]
  },
  {
   "cell_type": "code",
   "execution_count": null,
   "id": "da94a593-6a49-438e-b3f7-1bef2361fb21",
   "metadata": {},
   "outputs": [],
   "source": []
  },
  {
   "cell_type": "code",
   "execution_count": null,
   "id": "f4f1b22a-d898-407f-b10f-7c10b581a03a",
   "metadata": {},
   "outputs": [],
   "source": [
    "# Filter the DataFrame for the given account number after stripping any whitespace\n",
    "matching_rows = df_hardship_aging[df_hardship_aging['Account No'].str.strip() in ('933367255007')]\n",
    "\n",
    "# Check if any rows were returned\n",
    "if not matching_rows.empty:\n",
    "    print(\"Matching account found:\")\n",
    "    print(matching_rows)\n",
    "else:\n",
    "    print(\"No matching account found.\")\n"
   ]
  }
 ],
 "metadata": {
  "kernelspec": {
   "display_name": "Python 3 (ipykernel)",
   "language": "python",
   "name": "python3"
  },
  "language_info": {
   "codemirror_mode": {
    "name": "ipython",
    "version": 3
   },
   "file_extension": ".py",
   "mimetype": "text/x-python",
   "name": "python",
   "nbconvert_exporter": "python",
   "pygments_lexer": "ipython3",
   "version": "3.12.7"
  }
 },
 "nbformat": 4,
 "nbformat_minor": 5
}
